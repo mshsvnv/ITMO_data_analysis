{
 "cells": [
  {
   "cell_type": "markdown",
   "metadata": {
    "collapsed": true
   },
   "source": [
    "###  Население городов России"
   ]
  },
  {
   "cell_type": "markdown",
   "metadata": {},
   "source": [
    "###  Темы\n",
    "\n",
    "Среднее и медиана \n",
    "как типичное наблюдение выборки\n",
    "\n",
    "Логнормальное распределение\n"
   ]
  },
  {
   "cell_type": "code",
   "execution_count": null,
   "metadata": {},
   "outputs": [],
   "source": []
  },
  {
   "cell_type": "code",
   "execution_count": 1,
   "metadata": {},
   "outputs": [],
   "source": [
    "import pandas as pd\n",
    "import numpy as np\n",
    "\n",
    "import matplotlib\n",
    "import matplotlib.pyplot as plt\n",
    "\n",
    "#  выбор темы картинок на Ваш вкус. Необязательная строчка.\n",
    "#  matplotlib.style.use('ggplot')\n",
    "#  Эта строчка нужна для того, чтобы картинки отображались в ячейках\n",
    "%matplotlib inline\n",
    "\n",
    "import os\n"
   ]
  },
  {
   "cell_type": "code",
   "execution_count": 2,
   "metadata": {},
   "outputs": [],
   "source": [
    "import seaborn as sns\n"
   ]
  },
  {
   "cell_type": "code",
   "execution_count": 3,
   "metadata": {},
   "outputs": [],
   "source": [
    "#  from scipy.stats import norm\n",
    "#  from sklearn.preprocessing import StandardScaler\n",
    "#  from scipy import stats\n",
    "#  import warnings\n",
    "#  warnings.filterwarnings('ignore')\n"
   ]
  },
  {
   "cell_type": "code",
   "execution_count": 4,
   "metadata": {},
   "outputs": [
    {
     "data": {
      "text/html": [
       "<div>\n",
       "<style scoped>\n",
       "    .dataframe tbody tr th:only-of-type {\n",
       "        vertical-align: middle;\n",
       "    }\n",
       "\n",
       "    .dataframe tbody tr th {\n",
       "        vertical-align: top;\n",
       "    }\n",
       "\n",
       "    .dataframe thead th {\n",
       "        text-align: right;\n",
       "    }\n",
       "</style>\n",
       "<table border=\"1\" class=\"dataframe\">\n",
       "  <thead>\n",
       "    <tr style=\"text-align: right;\">\n",
       "      <th></th>\n",
       "      <th>город</th>\n",
       "      <th>население</th>\n",
       "    </tr>\n",
       "    <tr>\n",
       "      <th>номер</th>\n",
       "      <th></th>\n",
       "      <th></th>\n",
       "    </tr>\n",
       "  </thead>\n",
       "  <tbody>\n",
       "    <tr>\n",
       "      <td>1</td>\n",
       "      <td>Москва</td>\n",
       "      <td>5046.0</td>\n",
       "    </tr>\n",
       "    <tr>\n",
       "      <td>2</td>\n",
       "      <td>Санкт-Петербург</td>\n",
       "      <td>3003.0</td>\n",
       "    </tr>\n",
       "    <tr>\n",
       "      <td>3</td>\n",
       "      <td>Нижний_Новгород</td>\n",
       "      <td>941.0</td>\n",
       "    </tr>\n",
       "    <tr>\n",
       "      <td>4</td>\n",
       "      <td>Новосибирск</td>\n",
       "      <td>885.0</td>\n",
       "    </tr>\n",
       "    <tr>\n",
       "      <td>5</td>\n",
       "      <td>Самара</td>\n",
       "      <td>806.0</td>\n",
       "    </tr>\n",
       "  </tbody>\n",
       "</table>\n",
       "</div>"
      ],
      "text/plain": [
       "                 город  население\n",
       "номер                            \n",
       "1               Москва     5046.0\n",
       "2      Санкт-Петербург     3003.0\n",
       "3      Нижний_Новгород      941.0\n",
       "4          Новосибирск      885.0\n",
       "5               Самара      806.0"
      ]
     },
     "execution_count": 4,
     "metadata": {},
     "output_type": "execute_result"
    }
   ],
   "source": [
    "\n",
    "os.chdir(\"C:/Users/USER/Documents/Python/_AD_Python_part_1_Lectures/AD_Python_1_01/town_1959_2\")\n",
    "\n",
    "#   Население городов России в 1959 году\n",
    "#   В тысячах человек\n",
    "#   Город определяется по критериям 2000-го года\n",
    "\n",
    "#   Импорт данных\n",
    "# https://pandas.pydata.org/pandas-docs/stable/generated/pandas.read_csv.html\n",
    "# Полезные параметры:\n",
    "\n",
    "#     sep -- задаёт символ-разделитель полей в файле (по умолчанию разделитель запятая);\n",
    "#     names -- список названий колонок, если он не задан в файле;\n",
    "#     index_col -- номер колонки с индексом.\n",
    "#     decimal -- символ-разделитель для знаков после запятой.\n",
    "#          decimal=b',',\n",
    "\n",
    "\n",
    "town = pd.read_csv('town_1959_2.csv', encoding='cp1251', index_col=u'номер')\n",
    "town.head()"
   ]
  },
  {
   "cell_type": "markdown",
   "metadata": {},
   "source": [
    "каково население типичного города россии в 1959 году?\n",
    "\n",
    "типичный чек\n",
    "\n",
    "определение типичного значения"
   ]
  },
  {
   "cell_type": "code",
   "execution_count": null,
   "metadata": {},
   "outputs": [],
   "source": []
  },
  {
   "cell_type": "code",
   "execution_count": 5,
   "metadata": {},
   "outputs": [
    {
     "name": "stdout",
     "output_type": "stream",
     "text": [
      "                 город  население\n",
      "номер                            \n",
      "1               Москва     5046.0\n",
      "2      Санкт-Петербург     3003.0\n",
      "3      Нижний_Новгород      941.0\n",
      "4          Новосибирск      885.0\n",
      "5               Самара      806.0\n",
      "...                ...        ...\n",
      "1 000      Усть-Илимск        0.5\n",
      "1 001            Ясный        0.5\n",
      "1 002           Мегион        0.4\n",
      "1 003            Надым        0.3\n",
      "1 004           Вуктыл        0.1\n",
      "\n",
      "[1004 rows x 2 columns]\n"
     ]
    }
   ],
   "source": [
    "print(town)"
   ]
  },
  {
   "cell_type": "code",
   "execution_count": 6,
   "metadata": {},
   "outputs": [
    {
     "data": {
      "text/html": [
       "<div>\n",
       "<style scoped>\n",
       "    .dataframe tbody tr th:only-of-type {\n",
       "        vertical-align: middle;\n",
       "    }\n",
       "\n",
       "    .dataframe tbody tr th {\n",
       "        vertical-align: top;\n",
       "    }\n",
       "\n",
       "    .dataframe thead th {\n",
       "        text-align: right;\n",
       "    }\n",
       "</style>\n",
       "<table border=\"1\" class=\"dataframe\">\n",
       "  <thead>\n",
       "    <tr style=\"text-align: right;\">\n",
       "      <th></th>\n",
       "      <th>население</th>\n",
       "    </tr>\n",
       "  </thead>\n",
       "  <tbody>\n",
       "    <tr>\n",
       "      <td>count</td>\n",
       "      <td>1004.000000</td>\n",
       "    </tr>\n",
       "    <tr>\n",
       "      <td>mean</td>\n",
       "      <td>52.925199</td>\n",
       "    </tr>\n",
       "    <tr>\n",
       "      <td>std</td>\n",
       "      <td>204.885662</td>\n",
       "    </tr>\n",
       "    <tr>\n",
       "      <td>min</td>\n",
       "      <td>0.100000</td>\n",
       "    </tr>\n",
       "    <tr>\n",
       "      <td>25%</td>\n",
       "      <td>10.700000</td>\n",
       "    </tr>\n",
       "    <tr>\n",
       "      <td>50%</td>\n",
       "      <td>19.250000</td>\n",
       "    </tr>\n",
       "    <tr>\n",
       "      <td>75%</td>\n",
       "      <td>37.975000</td>\n",
       "    </tr>\n",
       "    <tr>\n",
       "      <td>max</td>\n",
       "      <td>5046.000000</td>\n",
       "    </tr>\n",
       "  </tbody>\n",
       "</table>\n",
       "</div>"
      ],
      "text/plain": [
       "         население\n",
       "count  1004.000000\n",
       "mean     52.925199\n",
       "std     204.885662\n",
       "min       0.100000\n",
       "25%      10.700000\n",
       "50%      19.250000\n",
       "75%      37.975000\n",
       "max    5046.000000"
      ]
     },
     "execution_count": 6,
     "metadata": {},
     "output_type": "execute_result"
    }
   ],
   "source": [
    "town.describe()"
   ]
  },
  {
   "cell_type": "code",
   "execution_count": 7,
   "metadata": {},
   "outputs": [],
   "source": [
    "#  Среднее значение равно 52.925199\n",
    "#  Медиана равна  19.25\n",
    "#  Что выбрать в качестве типичного значения?\n"
   ]
  },
  {
   "cell_type": "code",
   "execution_count": 8,
   "metadata": {},
   "outputs": [
    {
     "data": {
      "text/plain": [
       "<matplotlib.axes._subplots.AxesSubplot at 0x221a52c2508>"
      ]
     },
     "execution_count": 8,
     "metadata": {},
     "output_type": "execute_result"
    },
    {
     "data": {
      "image/png": "[encoded data removed]",
      "text/plain": [
       "<Figure size 432x288 with 1 Axes>"
      ]
     },
     "metadata": {
      "needs_background": "light"
     },
     "output_type": "display_data"
    }
   ],
   "source": [
    "#  Гистограмма должна помочь. Она всегда помогает \n",
    "town[u'население'].hist()\n",
    "\n"
   ]
  },
  {
   "cell_type": "code",
   "execution_count": 12,
   "metadata": {},
   "outputs": [
    {
     "data": {
      "text/plain": [
       "count    1002.000000\n",
       "mean       44.997904\n",
       "std        91.645867\n",
       "min         0.100000\n",
       "25%        10.700000\n",
       "50%        19.150000\n",
       "75%        37.550000\n",
       "max       941.000000\n",
       "Name: население, dtype: float64"
      ]
     },
     "execution_count": 12,
     "metadata": {},
     "output_type": "execute_result"
    }
   ],
   "source": [
    "#  Гистограмма всегда помогает, но в нашей задаче \n",
    "#  экстремальные значения слишком экстремальные \n",
    "\n",
    "#  Ничего не понятно: много городов с небольшим населением (меньше 500000)  \n",
    "#  и мало городов с большим населением.\n",
    "\n",
    "#  Может дело в выбросах?\n",
    "#  Может выбросами являются Москва и Санкт-Петербург?\n",
    "#  Повторим вычисления, исключив эти города.\n",
    "\n",
    "town_2 = town.iloc[2:1004, 1]\n",
    "\n",
    "town_2.describe()"
   ]
  },
  {
   "cell_type": "code",
   "execution_count": 9,
   "metadata": {},
   "outputs": [
    {
     "name": "stdout",
     "output_type": "stream",
     "text": [
      "Среднее значение уменьшилось на 14.978299845410126\n",
      "Медиана уменьшилось с 19.25  до  19.15\n"
     ]
    }
   ],
   "source": [
    "#  Среднее значение равно 44.997904\n",
    "print(\"Среднее значение уменьшилось на\",  (52.925199 - 44.997904)/52.925199*100)\n",
    "print(\"Медиана уменьшилось с 19.25  до  19.15\")\n",
    "#  Что выбрать в качестве типичного значения?\n"
   ]
  },
  {
   "cell_type": "code",
   "execution_count": 10,
   "metadata": {},
   "outputs": [
    {
     "data": {
      "text/plain": [
       "<matplotlib.axes._subplots.AxesSubplot at 0x26541fb16c8>"
      ]
     },
     "execution_count": 10,
     "metadata": {},
     "output_type": "execute_result"
    },
    {
     "data": {
      "image/png": "[encoded data removed]",
      "text/plain": [
       "<Figure size 432x288 with 1 Axes>"
      ]
     },
     "metadata": {
      "needs_background": "light"
     },
     "output_type": "display_data"
    }
   ],
   "source": [
    "town_2[u'население'].hist()\n",
    "\n",
    "#  Снова выбросы! Сколько можно!\n",
    "#  Теперь будем удалять Нижний_Новгород,Новосибирск и Самару\n",
    "#  Так выбросы будем удалять бесконечно.\n",
    "#  Распределение похоже на логнормальное...\n"
   ]
  },
  {
   "cell_type": "code",
   "execution_count": null,
   "metadata": {},
   "outputs": [],
   "source": []
  },
  {
   "cell_type": "code",
   "execution_count": 11,
   "metadata": {},
   "outputs": [
    {
     "data": {
      "text/plain": [
       "82.37051792828686"
      ]
     },
     "execution_count": 11,
     "metadata": {},
     "output_type": "execute_result"
    }
   ],
   "source": [
    "#  Какой процент наблюдений меньше среднего изначально?\n",
    "\n",
    "len(town[town['население'] < 52.925199])/len(town)*100"
   ]
  },
  {
   "cell_type": "code",
   "execution_count": null,
   "metadata": {},
   "outputs": [],
   "source": []
  },
  {
   "cell_type": "code",
   "execution_count": 12,
   "metadata": {},
   "outputs": [
    {
     "data": {
      "text/plain": [
       "78.84231536926147"
      ]
     },
     "execution_count": 12,
     "metadata": {},
     "output_type": "execute_result"
    }
   ],
   "source": [
    "#  Интересно, насколько стало лучше после отбрасывания выбросов.\n",
    "\n",
    "len(town_2[town_2['население'] < 44.997904])/len(town_2)*100"
   ]
  },
  {
   "cell_type": "code",
   "execution_count": null,
   "metadata": {},
   "outputs": [],
   "source": []
  },
  {
   "cell_type": "code",
   "execution_count": 13,
   "metadata": {},
   "outputs": [
    {
     "data": {
      "text/plain": [
       "<matplotlib.axes._subplots.AxesSubplot at 0x26542018e88>"
      ]
     },
     "execution_count": 13,
     "metadata": {},
     "output_type": "execute_result"
    },
    {
     "data": {
      "image/png": "[encoded data removed]",
      "text/plain": [
       "<Figure size 432x288 with 1 Axes>"
      ]
     },
     "metadata": {
      "needs_background": "light"
     },
     "output_type": "display_data"
    }
   ],
   "source": [
    "#  График не помог. Что делать?\n",
    "#  Распределение похоже на логнормальное...\n",
    "\n",
    "#  Построим гистограмму для логарифмов значений\n",
    "\n",
    "x = np.log10(town[u'население'])\n",
    "pd.Series(x).hist()"
   ]
  },
  {
   "cell_type": "code",
   "execution_count": 23,
   "metadata": {},
   "outputs": [
    {
     "data": {
      "text/plain": [
       "<matplotlib.axes._subplots.AxesSubplot at 0x26544299508>"
      ]
     },
     "execution_count": 23,
     "metadata": {},
     "output_type": "execute_result"
    },
    {
     "data": {
      "image/png": "[encoded data removed]",
      "text/plain": [
       "<Figure size 432x288 with 1 Axes>"
      ]
     },
     "metadata": {
      "needs_background": "light"
     },
     "output_type": "display_data"
    }
   ],
   "source": [
    "#  Повторим, увеличив число столбцов\n",
    "pd.Series(x).hist(bins=45)"
   ]
  },
  {
   "cell_type": "code",
   "execution_count": null,
   "metadata": {
    "collapsed": true
   },
   "outputs": [],
   "source": [
    "#  где выбросы?\n",
    "#  Сколько их?\n",
    "\n",
    "#  Нижний Новгород уже не выброс!\n",
    "\n",
    "#  Является ли распределение нормальным?\n",
    "#  Об этом поговорим в теме \"проверка статистических гипотез\"\n",
    "\n",
    "#  Можно ли говорить, \n",
    "#  что распределение несущественно отличается от нормального?\n",
    "\n"
   ]
  },
  {
   "cell_type": "code",
   "execution_count": null,
   "metadata": {},
   "outputs": [],
   "source": []
  },
  {
   "cell_type": "code",
   "execution_count": null,
   "metadata": {},
   "outputs": [],
   "source": []
  },
  {
   "cell_type": "code",
   "execution_count": null,
   "metadata": {},
   "outputs": [],
   "source": []
  },
  {
   "cell_type": "code",
   "execution_count": null,
   "metadata": {},
   "outputs": [],
   "source": [
    "Добавить\n",
    "rug\n",
    "нормальная плотность\n"
   ]
  }
 ],
 "metadata": {
  "kernelspec": {
   "display_name": "Python 3",
   "language": "python",
   "name": "python3"
  },
  "language_info": {
   "codemirror_mode": {
    "name": "ipython",
    "version": 3
   },
   "file_extension": ".py",
   "mimetype": "text/x-python",
   "name": "python",
   "nbconvert_exporter": "python",
   "pygments_lexer": "ipython3",
   "version": "3.7.10"
  }
 },
 "nbformat": 4,
 "nbformat_minor": 2
}
