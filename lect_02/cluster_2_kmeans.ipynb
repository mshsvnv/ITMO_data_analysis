{
 "cells": [
  {
   "cell_type": "markdown",
   "metadata": {},
   "source": [
    "Кластеризация методом k-средних (k-means)\n",
    "=============\n",
    "\n",
    "Полезные ссылки:\n",
    "* http://scikit-learn.org/stable/modules/generated/sklearn.cluster.KMeans.html\n",
    "* http://scikit-learn.org/stable/modules/clustering.html"
   ]
  },
  {
   "cell_type": "code",
   "execution_count": 11,
   "metadata": {},
   "outputs": [],
   "source": [
    "# Активация библиотек\n",
    "\n",
    "import pandas as pd\n",
    "\n",
    "import matplotlib\n",
    "import matplotlib.pyplot as plt\n",
    "matplotlib.style.use('ggplot')\n",
    "%matplotlib inline\n",
    "\n",
    "import os"
   ]
  },
  {
   "cell_type": "code",
   "execution_count": 12,
   "metadata": {},
   "outputs": [],
   "source": [
    "#  Будем использовать процедуру KMeans из библиотеки sklearn\n",
    "\n",
    "from sklearn.cluster import KMeans\n"
   ]
  },
  {
   "cell_type": "markdown",
   "metadata": {},
   "source": [
    "Пример 1. Beverage\n",
    "--------"
   ]
  },
  {
   "cell_type": "code",
   "execution_count": 13,
   "metadata": {},
   "outputs": [],
   "source": [
    "#  Задаем путь к рабочей папке\n",
    "os.chdir(\"C:/Users/USER/Documents/Python/_AD_Python_part_1_Lectures/AD_Python_1_02_cluster/1_beverage/\")\n"
   ]
  },
  {
   "cell_type": "code",
   "execution_count": 14,
   "metadata": {},
   "outputs": [
    {
     "data": {
      "text/html": [
       "<div>\n",
       "<style scoped>\n",
       "    .dataframe tbody tr th:only-of-type {\n",
       "        vertical-align: middle;\n",
       "    }\n",
       "\n",
       "    .dataframe tbody tr th {\n",
       "        vertical-align: top;\n",
       "    }\n",
       "\n",
       "    .dataframe thead th {\n",
       "        text-align: right;\n",
       "    }\n",
       "</style>\n",
       "<table border=\"1\" class=\"dataframe\">\n",
       "  <thead>\n",
       "    <tr style=\"text-align: right;\">\n",
       "      <th></th>\n",
       "      <th>COKE</th>\n",
       "      <th>D_COKE</th>\n",
       "      <th>D_PEPSI</th>\n",
       "      <th>D_7UP</th>\n",
       "      <th>PEPSI</th>\n",
       "      <th>SPRITE</th>\n",
       "      <th>TAB</th>\n",
       "      <th>SEVENUP</th>\n",
       "    </tr>\n",
       "    <tr>\n",
       "      <th>numb.obs</th>\n",
       "      <th></th>\n",
       "      <th></th>\n",
       "      <th></th>\n",
       "      <th></th>\n",
       "      <th></th>\n",
       "      <th></th>\n",
       "      <th></th>\n",
       "      <th></th>\n",
       "    </tr>\n",
       "  </thead>\n",
       "  <tbody>\n",
       "    <tr>\n",
       "      <th>1</th>\n",
       "      <td>1</td>\n",
       "      <td>0</td>\n",
       "      <td>0</td>\n",
       "      <td>0</td>\n",
       "      <td>1</td>\n",
       "      <td>1</td>\n",
       "      <td>0</td>\n",
       "      <td>1</td>\n",
       "    </tr>\n",
       "    <tr>\n",
       "      <th>2</th>\n",
       "      <td>1</td>\n",
       "      <td>0</td>\n",
       "      <td>0</td>\n",
       "      <td>0</td>\n",
       "      <td>1</td>\n",
       "      <td>0</td>\n",
       "      <td>0</td>\n",
       "      <td>0</td>\n",
       "    </tr>\n",
       "    <tr>\n",
       "      <th>3</th>\n",
       "      <td>1</td>\n",
       "      <td>0</td>\n",
       "      <td>0</td>\n",
       "      <td>0</td>\n",
       "      <td>1</td>\n",
       "      <td>0</td>\n",
       "      <td>0</td>\n",
       "      <td>0</td>\n",
       "    </tr>\n",
       "    <tr>\n",
       "      <th>4</th>\n",
       "      <td>0</td>\n",
       "      <td>1</td>\n",
       "      <td>0</td>\n",
       "      <td>1</td>\n",
       "      <td>0</td>\n",
       "      <td>0</td>\n",
       "      <td>1</td>\n",
       "      <td>0</td>\n",
       "    </tr>\n",
       "    <tr>\n",
       "      <th>5</th>\n",
       "      <td>1</td>\n",
       "      <td>0</td>\n",
       "      <td>0</td>\n",
       "      <td>0</td>\n",
       "      <td>1</td>\n",
       "      <td>0</td>\n",
       "      <td>0</td>\n",
       "      <td>0</td>\n",
       "    </tr>\n",
       "  </tbody>\n",
       "</table>\n",
       "</div>"
      ],
      "text/plain": [
       "          COKE  D_COKE  D_PEPSI  D_7UP  PEPSI  SPRITE  TAB  SEVENUP\n",
       "numb.obs                                                           \n",
       "1            1       0        0      0      1       1    0        1\n",
       "2            1       0        0      0      1       0    0        0\n",
       "3            1       0        0      0      1       0    0        0\n",
       "4            0       1        0      1      0       0    1        0\n",
       "5            1       0        0      0      1       0    0        0"
      ]
     },
     "execution_count": 14,
     "metadata": {},
     "output_type": "execute_result"
    }
   ],
   "source": [
    "#  Импортируем файл с данными\n",
    "df = pd.read_csv(\"beverage_r.csv\", sep=\";\", index_col='numb.obs')\n",
    "#  Все хорошо?\n",
    "df.head()"
   ]
  },
  {
   "cell_type": "markdown",
   "metadata": {},
   "source": [
    "В scikit-learn процедура настройки и использования моделей часто проходит по одной и той же схеме:\n",
    "1. Инициализация модели, задание её параметров,\n",
    "2. Подгонка модели (метод fit и/или fit_transform),\n",
    "3. Предсказание для новых наблюдений (метод predict).\n",
    "\n",
    "\n",
    "Для кластеризации методом k-means необходимо задать число кластеров k. \n",
    "Попробуем k = 3. "
   ]
  },
  {
   "cell_type": "markdown",
   "metadata": {},
   "source": [
    "Вопрос для самопроверки. <br>\n",
    "Надо ли стандартизовать переменные?"
   ]
  },
  {
   "cell_type": "markdown",
   "metadata": {},
   "source": [
    "####  Кластеризация"
   ]
  },
  {
   "cell_type": "code",
   "execution_count": 15,
   "metadata": {},
   "outputs": [],
   "source": [
    "#  максимальное число итераций \n",
    "max_iter_1 = 300"
   ]
  },
  {
   "cell_type": "code",
   "execution_count": 16,
   "metadata": {},
   "outputs": [],
   "source": [
    "# инициализация модели\n",
    "model = KMeans(n_clusters=3, random_state=42, max_iter=max_iter_1, n_init=10, \n",
    "               verbose=0, tol=0.0001 )\n",
    "\n",
    "# random_state - зерно датчика случайных чисел. \n",
    "# При повторных вызовах процедуры с тем же значением зерна random_state \n",
    "# модель будет давать одинаковые результаты."
   ]
  },
  {
   "cell_type": "code",
   "execution_count": 17,
   "metadata": {},
   "outputs": [
    {
     "data": {
      "text/plain": [
       "KMeans(n_clusters=3, random_state=42)"
      ]
     },
     "execution_count": 17,
     "metadata": {},
     "output_type": "execute_result"
    }
   ],
   "source": [
    "# Кластеризация данных из таблицы df\n",
    "model.fit(df)"
   ]
  },
  {
   "cell_type": "code",
   "execution_count": null,
   "metadata": {},
   "outputs": [],
   "source": []
  },
  {
   "cell_type": "markdown",
   "metadata": {},
   "source": [
    "####  Достаточно ли итераций?"
   ]
  },
  {
   "cell_type": "code",
   "execution_count": 18,
   "metadata": {},
   "outputs": [
    {
     "data": {
      "text/plain": [
       "4"
      ]
     },
     "execution_count": 18,
     "metadata": {},
     "output_type": "execute_result"
    }
   ],
   "source": [
    "#  Сколько итераций потребовалось процедуре?\n",
    "model.n_iter_"
   ]
  },
  {
   "cell_type": "code",
   "execution_count": 19,
   "metadata": {},
   "outputs": [],
   "source": [
    "max_iter_2 = 2"
   ]
  },
  {
   "cell_type": "code",
   "execution_count": 20,
   "metadata": {},
   "outputs": [
    {
     "data": {
      "text/plain": [
       "KMeans(max_iter=2, n_clusters=3, random_state=42)"
      ]
     },
     "execution_count": 20,
     "metadata": {},
     "output_type": "execute_result"
    }
   ],
   "source": [
    "#  Если итерации кончились, \n",
    "#  а алгоритм не успел завершить работу, \n",
    "#  будет ли выдано сообщение об этом?\n",
    "\n",
    "model_tmp = KMeans(n_clusters=3, random_state=42, max_iter=max_iter_2, verbose=0 )\n",
    "model_tmp.fit(df)"
   ]
  },
  {
   "cell_type": "code",
   "execution_count": 21,
   "metadata": {},
   "outputs": [
    {
     "data": {
      "text/plain": [
       "2"
      ]
     },
     "execution_count": 21,
     "metadata": {},
     "output_type": "execute_result"
    }
   ],
   "source": [
    "#  Сообщение не появилось...\n",
    "model_tmp.n_iter_"
   ]
  },
  {
   "cell_type": "code",
   "execution_count": 22,
   "metadata": {},
   "outputs": [
    {
     "name": "stdout",
     "output_type": "stream",
     "text": [
      "Не сошлось за  2  итераций\n"
     ]
    }
   ],
   "source": [
    "#  Проверяем, сошелся ли алгоритм KMeans\n",
    "\n",
    "if model_tmp.n_iter_ == max_iter_2:\n",
    "    print(\"Не сошлось за \", model_tmp.n_iter_ , \" итераций\") \n",
    "else:\n",
    "    print(\"Сошлось за \", model_tmp.n_iter_ , \" итераций\") "
   ]
  },
  {
   "cell_type": "code",
   "execution_count": null,
   "metadata": {},
   "outputs": [],
   "source": []
  },
  {
   "cell_type": "code",
   "execution_count": 7,
   "metadata": {},
   "outputs": [],
   "source": [
    "#  Все параметры и их значения по умолчанию\n",
    "\n",
    "#  KMeans(n_clusters=8, init='k-means++', n_init=10, max_iter=300, \n",
    "#         tol=0.0001, verbose=0, \n",
    "#         random_state=None, copy_x=True, algorithm='auto')"
   ]
  },
  {
   "cell_type": "code",
   "execution_count": null,
   "metadata": {},
   "outputs": [],
   "source": []
  },
  {
   "cell_type": "markdown",
   "metadata": {},
   "source": [
    "####  Результаты кластеризации"
   ]
  },
  {
   "cell_type": "code",
   "execution_count": 23,
   "metadata": {},
   "outputs": [
    {
     "data": {
      "text/plain": [
       "array([0, 2, 2, 1, 2, 0, 1, 0, 0, 2, 0, 1, 0, 0, 1, 0, 0, 2, 2, 2, 2, 2,\n",
       "       1, 2, 1, 1, 1, 0, 0, 1, 2, 1, 2, 1])"
      ]
     },
     "execution_count": 23,
     "metadata": {},
     "output_type": "execute_result"
    }
   ],
   "source": [
    "#  Результат кластеризации набора данных из таблицы df\n",
    "#  Номера кластеров начинаются с 0, \n",
    "#  а не с 1, как в иерархическом кластерном анализе\n",
    "model.labels_"
   ]
  },
  {
   "cell_type": "code",
   "execution_count": 24,
   "metadata": {},
   "outputs": [
    {
     "data": {
      "text/plain": [
       "array([[ 7.27272727e-01,  2.72727273e-01,  9.09090909e-02,\n",
       "         9.09090909e-02,  4.54545455e-01,  1.00000000e+00,\n",
       "         9.09090909e-02,  4.54545455e-01],\n",
       "       [ 1.11022302e-16,  1.00000000e+00,  5.45454545e-01,\n",
       "         5.45454545e-01, -5.55111512e-17, -5.55111512e-17,\n",
       "         9.09090909e-01,  0.00000000e+00],\n",
       "       [ 1.00000000e+00,  2.50000000e-01,  8.33333333e-02,\n",
       "         0.00000000e+00,  9.16666667e-01, -5.55111512e-17,\n",
       "        -5.55111512e-17,  3.33333333e-01]])"
      ]
     },
     "execution_count": 24,
     "metadata": {},
     "output_type": "execute_result"
    }
   ],
   "source": [
    "# координаты центров кластеров\n",
    "model.cluster_centers_"
   ]
  },
  {
   "cell_type": "markdown",
   "metadata": {},
   "source": [
    "Как определить число кластеров, не угадывая? <br>\n",
    "Применим модель для разного числа кластеров, чтобы построить график каменистой осыпи. Метод ```inertia_``` вернёт сумму квадратов расстояний от каждой точки данных до центра ближайшего к ней кластера. Кластеризацию будем считать условно хорошей, если инерция перестаёт сильно уменьшаться при увеличении числа кластеров."
   ]
  },
  {
   "cell_type": "code",
   "execution_count": 25,
   "metadata": {
    "scrolled": true
   },
   "outputs": [
    {
     "name": "stderr",
     "output_type": "stream",
     "text": [
      "C:\\Users\\USER\\Anaconda3\\lib\\site-packages\\sklearn\\cluster\\_kmeans.py:882: UserWarning: KMeans is known to have a memory leak on Windows with MKL, when there are less chunks than available threads. You can avoid it by setting the environment variable OMP_NUM_THREADS=1.\n",
      "  f\"KMeans is known to have a memory leak on Windows \"\n"
     ]
    },
    {
     "data": {
      "image/png": "[encoded data removed]",
      "text/plain": [
       "<Figure size 432x288 with 1 Axes>"
      ]
     },
     "metadata": {
      "needs_background": "light"
     },
     "output_type": "display_data"
    }
   ],
   "source": [
    "K = range(1, 11)\n",
    "\n",
    "# Вычисляем значения критерия качества для разного числа кластеров\n",
    "models = [KMeans(n_clusters=k, random_state=42).fit(df) for k in K]\n",
    "dist = [model.inertia_ for model in models]\n",
    "\n",
    "# Строим график каменистая осыпь\n",
    "plt.plot(K, dist, marker='o')\n",
    "plt.xlabel('Число кластеров')\n",
    "plt.ylabel('Сумма квадратов расстояний')\n",
    "plt.title('Каменистая осыпь. Ищем оптимальное k')\n",
    "plt.show()"
   ]
  },
  {
   "cell_type": "markdown",
   "metadata": {},
   "source": [
    "Допустим, мы решили, что излом над числом три. <br>\n",
    "Тогда три кластера -- это оптимальный выбор. <br>\n",
    "Перейдем к интерпретации кластеров, посмотрим, чем они отличаются друг от друга. Для этого применим метод ```labels_```, а затем посчитаем средние значения переменных для каждого кластера."
   ]
  },
  {
   "cell_type": "code",
   "execution_count": 26,
   "metadata": {},
   "outputs": [
    {
     "data": {
      "text/html": [
       "<div>\n",
       "<style scoped>\n",
       "    .dataframe tbody tr th:only-of-type {\n",
       "        vertical-align: middle;\n",
       "    }\n",
       "\n",
       "    .dataframe tbody tr th {\n",
       "        vertical-align: top;\n",
       "    }\n",
       "\n",
       "    .dataframe thead th {\n",
       "        text-align: right;\n",
       "    }\n",
       "</style>\n",
       "<table border=\"1\" class=\"dataframe\">\n",
       "  <thead>\n",
       "    <tr style=\"text-align: right;\">\n",
       "      <th></th>\n",
       "      <th>COKE</th>\n",
       "      <th>D_COKE</th>\n",
       "      <th>D_PEPSI</th>\n",
       "      <th>D_7UP</th>\n",
       "      <th>PEPSI</th>\n",
       "      <th>SPRITE</th>\n",
       "      <th>TAB</th>\n",
       "      <th>SEVENUP</th>\n",
       "    </tr>\n",
       "    <tr>\n",
       "      <th>cluster</th>\n",
       "      <th></th>\n",
       "      <th></th>\n",
       "      <th></th>\n",
       "      <th></th>\n",
       "      <th></th>\n",
       "      <th></th>\n",
       "      <th></th>\n",
       "      <th></th>\n",
       "    </tr>\n",
       "  </thead>\n",
       "  <tbody>\n",
       "    <tr>\n",
       "      <th>0</th>\n",
       "      <td>0.727273</td>\n",
       "      <td>0.272727</td>\n",
       "      <td>0.090909</td>\n",
       "      <td>0.090909</td>\n",
       "      <td>0.454545</td>\n",
       "      <td>1.0</td>\n",
       "      <td>0.090909</td>\n",
       "      <td>0.454545</td>\n",
       "    </tr>\n",
       "    <tr>\n",
       "      <th>1</th>\n",
       "      <td>0.000000</td>\n",
       "      <td>1.000000</td>\n",
       "      <td>0.545455</td>\n",
       "      <td>0.545455</td>\n",
       "      <td>0.000000</td>\n",
       "      <td>0.0</td>\n",
       "      <td>0.909091</td>\n",
       "      <td>0.000000</td>\n",
       "    </tr>\n",
       "    <tr>\n",
       "      <th>2</th>\n",
       "      <td>1.000000</td>\n",
       "      <td>0.250000</td>\n",
       "      <td>0.083333</td>\n",
       "      <td>0.000000</td>\n",
       "      <td>0.916667</td>\n",
       "      <td>0.0</td>\n",
       "      <td>0.000000</td>\n",
       "      <td>0.333333</td>\n",
       "    </tr>\n",
       "  </tbody>\n",
       "</table>\n",
       "</div>"
      ],
      "text/plain": [
       "             COKE    D_COKE   D_PEPSI     D_7UP     PEPSI  SPRITE       TAB  \\\n",
       "cluster                                                                       \n",
       "0        0.727273  0.272727  0.090909  0.090909  0.454545     1.0  0.090909   \n",
       "1        0.000000  1.000000  0.545455  0.545455  0.000000     0.0  0.909091   \n",
       "2        1.000000  0.250000  0.083333  0.000000  0.916667     0.0  0.000000   \n",
       "\n",
       "          SEVENUP  \n",
       "cluster            \n",
       "0        0.454545  \n",
       "1        0.000000  \n",
       "2        0.333333  "
      ]
     },
     "execution_count": 26,
     "metadata": {},
     "output_type": "execute_result"
    }
   ],
   "source": [
    "#  К таблице данных df добавим столбец cluster, \n",
    "#  содержащий код того кластера, в который попал объект.\n",
    "df['cluster'] = model.labels_\n",
    "\n",
    "df.groupby('cluster').mean()"
   ]
  },
  {
   "cell_type": "markdown",
   "metadata": {},
   "source": [
    "Получили те же значения, что и координаты центров кластеров в model.cluster_centers_ <br>\n",
    "Совпадение?"
   ]
  },
  {
   "cell_type": "code",
   "execution_count": 27,
   "metadata": {},
   "outputs": [
    {
     "data": {
      "text/plain": [
       "array([[ 7.27272727e-01,  2.72727273e-01,  9.09090909e-02,\n",
       "         9.09090909e-02,  4.54545455e-01,  1.00000000e+00,\n",
       "         9.09090909e-02,  4.54545455e-01],\n",
       "       [ 1.11022302e-16,  1.00000000e+00,  5.45454545e-01,\n",
       "         5.45454545e-01, -5.55111512e-17, -5.55111512e-17,\n",
       "         9.09090909e-01,  0.00000000e+00],\n",
       "       [ 1.00000000e+00,  2.50000000e-01,  8.33333333e-02,\n",
       "         0.00000000e+00,  9.16666667e-01, -5.55111512e-17,\n",
       "        -5.55111512e-17,  3.33333333e-01]])"
      ]
     },
     "execution_count": 27,
     "metadata": {},
     "output_type": "execute_result"
    }
   ],
   "source": [
    "#  напоминание\n",
    "# координаты центров кластеров\n",
    "model.cluster_centers_"
   ]
  },
  {
   "cell_type": "code",
   "execution_count": 28,
   "metadata": {},
   "outputs": [
    {
     "data": {
      "text/plain": [
       "array([0, 2])"
      ]
     },
     "execution_count": 28,
     "metadata": {},
     "output_type": "execute_result"
    }
   ],
   "source": [
    "# К какому кластеру отнести новое наблюдение? Метод predict.\n",
    "new_items = [\n",
    "    [1, 1, 1, 1, 1, 1, 1, 1],\n",
    "    [0, 0, 0, 0, 0, 0, 0, 0]\n",
    "]\n",
    "model.predict(new_items)"
   ]
  },
  {
   "cell_type": "code",
   "execution_count": 29,
   "metadata": {},
   "outputs": [
    {
     "data": {
      "text/plain": [
       "cluster\n",
       "0    11\n",
       "1    11\n",
       "2    12\n",
       "dtype: int64"
      ]
     },
     "execution_count": 29,
     "metadata": {},
     "output_type": "execute_result"
    }
   ],
   "source": [
    "#  Подсчитаем объемы кластеров\n",
    "df.groupby('cluster').size()"
   ]
  },
  {
   "cell_type": "code",
   "execution_count": null,
   "metadata": {},
   "outputs": [],
   "source": []
  },
  {
   "cell_type": "markdown",
   "metadata": {},
   "source": [
    "Пример 2. Кластеризация претендентов.\n",
    "----------------------"
   ]
  },
  {
   "cell_type": "code",
   "execution_count": 17,
   "metadata": {},
   "outputs": [],
   "source": [
    "#  задаю путь к рабочей папке\n",
    "os.chdir(\"C:/Users/USER/Documents/Python/_AD_Python_part_1_Lectures/AD_Python_1_02_cluster/2_pretendent\")"
   ]
  },
  {
   "cell_type": "code",
   "execution_count": 18,
   "metadata": {},
   "outputs": [
    {
     "data": {
      "text/html": [
       "<div>\n",
       "<style scoped>\n",
       "    .dataframe tbody tr th:only-of-type {\n",
       "        vertical-align: middle;\n",
       "    }\n",
       "\n",
       "    .dataframe tbody tr th {\n",
       "        vertical-align: top;\n",
       "    }\n",
       "\n",
       "    .dataframe thead th {\n",
       "        text-align: right;\n",
       "    }\n",
       "</style>\n",
       "<table border=\"1\" class=\"dataframe\">\n",
       "  <thead>\n",
       "    <tr style=\"text-align: right;\">\n",
       "      <th></th>\n",
       "      <th>NR</th>\n",
       "      <th>T1</th>\n",
       "      <th>T2</th>\n",
       "      <th>T3</th>\n",
       "      <th>T4</th>\n",
       "      <th>T5</th>\n",
       "      <th>T6</th>\n",
       "      <th>T7</th>\n",
       "      <th>T8</th>\n",
       "      <th>T9</th>\n",
       "      <th>T10</th>\n",
       "    </tr>\n",
       "    <tr>\n",
       "      <th>NAME</th>\n",
       "      <th></th>\n",
       "      <th></th>\n",
       "      <th></th>\n",
       "      <th></th>\n",
       "      <th></th>\n",
       "      <th></th>\n",
       "      <th></th>\n",
       "      <th></th>\n",
       "      <th></th>\n",
       "      <th></th>\n",
       "      <th></th>\n",
       "    </tr>\n",
       "  </thead>\n",
       "  <tbody>\n",
       "    <tr>\n",
       "      <th>Volker</th>\n",
       "      <td>1</td>\n",
       "      <td>10</td>\n",
       "      <td>10</td>\n",
       "      <td>9</td>\n",
       "      <td>10</td>\n",
       "      <td>10</td>\n",
       "      <td>10</td>\n",
       "      <td>9</td>\n",
       "      <td>10</td>\n",
       "      <td>10</td>\n",
       "      <td>9</td>\n",
       "    </tr>\n",
       "    <tr>\n",
       "      <th>Sigrid</th>\n",
       "      <td>2</td>\n",
       "      <td>10</td>\n",
       "      <td>10</td>\n",
       "      <td>4</td>\n",
       "      <td>10</td>\n",
       "      <td>5</td>\n",
       "      <td>5</td>\n",
       "      <td>4</td>\n",
       "      <td>5</td>\n",
       "      <td>4</td>\n",
       "      <td>3</td>\n",
       "    </tr>\n",
       "    <tr>\n",
       "      <th>Elmar</th>\n",
       "      <td>3</td>\n",
       "      <td>5</td>\n",
       "      <td>4</td>\n",
       "      <td>10</td>\n",
       "      <td>5</td>\n",
       "      <td>10</td>\n",
       "      <td>4</td>\n",
       "      <td>10</td>\n",
       "      <td>5</td>\n",
       "      <td>3</td>\n",
       "      <td>10</td>\n",
       "    </tr>\n",
       "    <tr>\n",
       "      <th>Peter</th>\n",
       "      <td>4</td>\n",
       "      <td>10</td>\n",
       "      <td>10</td>\n",
       "      <td>9</td>\n",
       "      <td>10</td>\n",
       "      <td>10</td>\n",
       "      <td>10</td>\n",
       "      <td>9</td>\n",
       "      <td>10</td>\n",
       "      <td>10</td>\n",
       "      <td>9</td>\n",
       "    </tr>\n",
       "    <tr>\n",
       "      <th>Otto</th>\n",
       "      <td>5</td>\n",
       "      <td>4</td>\n",
       "      <td>3</td>\n",
       "      <td>5</td>\n",
       "      <td>4</td>\n",
       "      <td>3</td>\n",
       "      <td>10</td>\n",
       "      <td>4</td>\n",
       "      <td>10</td>\n",
       "      <td>10</td>\n",
       "      <td>5</td>\n",
       "    </tr>\n",
       "  </tbody>\n",
       "</table>\n",
       "</div>"
      ],
      "text/plain": [
       "        NR  T1  T2  T3  T4  T5  T6  T7  T8  T9  T10\n",
       "NAME                                               \n",
       "Volker   1  10  10   9  10  10  10   9  10  10    9\n",
       "Sigrid   2  10  10   4  10   5   5   4   5   4    3\n",
       "Elmar    3   5   4  10   5  10   4  10   5   3   10\n",
       "Peter    4  10  10   9  10  10  10   9  10  10    9\n",
       "Otto     5   4   3   5   4   3  10   4  10  10    5"
      ]
     },
     "execution_count": 18,
     "metadata": {},
     "output_type": "execute_result"
    }
   ],
   "source": [
    "#  Импортируем файл с данными\n",
    "df = pd.read_csv('assess.dat', sep='\\t', index_col='NAME')\n",
    "#  Все хорошо?\n",
    "df.head()"
   ]
  },
  {
   "cell_type": "code",
   "execution_count": 19,
   "metadata": {},
   "outputs": [],
   "source": [
    "# В колонке NR находится номер объекта, \n",
    "# его нужно удалить перед кластеризацией\n",
    "del df['NR']"
   ]
  },
  {
   "cell_type": "markdown",
   "metadata": {},
   "source": [
    "Вопрос для самопроверки. <br>\n",
    "Надо ли стандартизовать переменные?"
   ]
  },
  {
   "cell_type": "markdown",
   "metadata": {},
   "source": [
    "Подготовка данных завершена.  <br>\n",
    "Следующий шаг - определение числа кластеров"
   ]
  },
  {
   "cell_type": "code",
   "execution_count": 21,
   "metadata": {},
   "outputs": [
    {
     "name": "stderr",
     "output_type": "stream",
     "text": [
      "C:\\Users\\USER\\Anaconda3\\lib\\site-packages\\sklearn\\cluster\\_kmeans.py:882: UserWarning: KMeans is known to have a memory leak on Windows with MKL, when there are less chunks than available threads. You can avoid it by setting the environment variable OMP_NUM_THREADS=1.\n",
      "  f\"KMeans is known to have a memory leak on Windows \"\n"
     ]
    },
    {
     "data": {
      "image/png": "[encoded data removed]",
      "text/plain": [
       "<Figure size 432x288 with 1 Axes>"
      ]
     },
     "metadata": {
      "needs_background": "light"
     },
     "output_type": "display_data"
    }
   ],
   "source": [
    "# Строим 10 моделей с числом кластеров от 1 до 10. \n",
    "K = range(1, 11)\n",
    "\n",
    "\n",
    "# Не рационально, сохраняем модель, тогда как достаточно хранить только model.inertia_\n",
    "models = [KMeans(n_clusters=k, random_state=42, n_init=10, verbose=0).fit(df) for k in K]\n",
    "\n",
    "#  Качество кластеризации вычисляется в model.inertia_\n",
    "dist = [model.inertia_ for model in models]\n",
    "\n",
    "# Строим график каменистая осыпь\n",
    "plt.plot(K, dist, marker='o')\n",
    "# Добавляем на график текст\n",
    "plt.xlabel('Число кластеров')\n",
    "plt.ylabel('Качество кластеризации')\n",
    "plt.title('Каменистая осыпь. Ищем оптимальное k')\n",
    "plt.show()"
   ]
  },
  {
   "cell_type": "markdown",
   "metadata": {},
   "source": [
    "Вывод: число кластеров равно 4. <br>\n",
    "Строим окончательную модель."
   ]
  },
  {
   "cell_type": "code",
   "execution_count": 22,
   "metadata": {},
   "outputs": [
    {
     "data": {
      "text/html": [
       "<div>\n",
       "<style scoped>\n",
       "    .dataframe tbody tr th:only-of-type {\n",
       "        vertical-align: middle;\n",
       "    }\n",
       "\n",
       "    .dataframe tbody tr th {\n",
       "        vertical-align: top;\n",
       "    }\n",
       "\n",
       "    .dataframe thead th {\n",
       "        text-align: right;\n",
       "    }\n",
       "</style>\n",
       "<table border=\"1\" class=\"dataframe\">\n",
       "  <thead>\n",
       "    <tr style=\"text-align: right;\">\n",
       "      <th></th>\n",
       "      <th>T1</th>\n",
       "      <th>T2</th>\n",
       "      <th>T3</th>\n",
       "      <th>T4</th>\n",
       "      <th>T5</th>\n",
       "      <th>T6</th>\n",
       "      <th>T7</th>\n",
       "      <th>T8</th>\n",
       "      <th>T9</th>\n",
       "      <th>T10</th>\n",
       "    </tr>\n",
       "    <tr>\n",
       "      <th>cluster</th>\n",
       "      <th></th>\n",
       "      <th></th>\n",
       "      <th></th>\n",
       "      <th></th>\n",
       "      <th></th>\n",
       "      <th></th>\n",
       "      <th></th>\n",
       "      <th></th>\n",
       "      <th></th>\n",
       "      <th></th>\n",
       "    </tr>\n",
       "  </thead>\n",
       "  <tbody>\n",
       "    <tr>\n",
       "      <th>0</th>\n",
       "      <td>4.8</td>\n",
       "      <td>4.4</td>\n",
       "      <td>4.00</td>\n",
       "      <td>4.0</td>\n",
       "      <td>4.20</td>\n",
       "      <td>10.0</td>\n",
       "      <td>4.40</td>\n",
       "      <td>10.00</td>\n",
       "      <td>10.00</td>\n",
       "      <td>5.00</td>\n",
       "    </tr>\n",
       "    <tr>\n",
       "      <th>1</th>\n",
       "      <td>4.2</td>\n",
       "      <td>4.8</td>\n",
       "      <td>10.00</td>\n",
       "      <td>4.4</td>\n",
       "      <td>10.00</td>\n",
       "      <td>4.4</td>\n",
       "      <td>10.00</td>\n",
       "      <td>4.00</td>\n",
       "      <td>3.80</td>\n",
       "      <td>10.00</td>\n",
       "    </tr>\n",
       "    <tr>\n",
       "      <th>2</th>\n",
       "      <td>10.0</td>\n",
       "      <td>10.0</td>\n",
       "      <td>4.25</td>\n",
       "      <td>10.0</td>\n",
       "      <td>4.75</td>\n",
       "      <td>4.5</td>\n",
       "      <td>3.75</td>\n",
       "      <td>4.25</td>\n",
       "      <td>4.25</td>\n",
       "      <td>4.25</td>\n",
       "    </tr>\n",
       "    <tr>\n",
       "      <th>3</th>\n",
       "      <td>10.0</td>\n",
       "      <td>10.0</td>\n",
       "      <td>9.00</td>\n",
       "      <td>10.0</td>\n",
       "      <td>10.00</td>\n",
       "      <td>9.5</td>\n",
       "      <td>9.25</td>\n",
       "      <td>9.75</td>\n",
       "      <td>10.00</td>\n",
       "      <td>9.50</td>\n",
       "    </tr>\n",
       "  </tbody>\n",
       "</table>\n",
       "</div>"
      ],
      "text/plain": [
       "           T1    T2     T3    T4     T5    T6     T7     T8     T9    T10\n",
       "cluster                                                                  \n",
       "0         4.8   4.4   4.00   4.0   4.20  10.0   4.40  10.00  10.00   5.00\n",
       "1         4.2   4.8  10.00   4.4  10.00   4.4  10.00   4.00   3.80  10.00\n",
       "2        10.0  10.0   4.25  10.0   4.75   4.5   3.75   4.25   4.25   4.25\n",
       "3        10.0  10.0   9.00  10.0  10.00   9.5   9.25   9.75  10.00   9.50"
      ]
     },
     "execution_count": 22,
     "metadata": {},
     "output_type": "execute_result"
    }
   ],
   "source": [
    "model = KMeans(n_clusters=4, random_state=42, max_iter=300, n_init=10, verbose=0)\n",
    "model.fit(df)\n",
    "df['cluster'] = model.labels_\n",
    "df.groupby('cluster').mean()\n"
   ]
  },
  {
   "cell_type": "code",
   "execution_count": null,
   "metadata": {},
   "outputs": [],
   "source": []
  },
  {
   "cell_type": "markdown",
   "metadata": {},
   "source": [
    "Пример 3. Потребление протеинов в Европе\n",
    "---------------------"
   ]
  },
  {
   "cell_type": "code",
   "execution_count": 5,
   "metadata": {},
   "outputs": [],
   "source": [
    "#  задаю путь к рабочей папке\n",
    "os.chdir(\"C:/Users/USER/Documents/Python/_AD_Python_part_1_Lectures/AD_Python_1_02_cluster/3_Protein Consumption in Europe\")"
   ]
  },
  {
   "cell_type": "code",
   "execution_count": 6,
   "metadata": {},
   "outputs": [
    {
     "data": {
      "text/html": [
       "<div>\n",
       "<style scoped>\n",
       "    .dataframe tbody tr th:only-of-type {\n",
       "        vertical-align: middle;\n",
       "    }\n",
       "\n",
       "    .dataframe tbody tr th {\n",
       "        vertical-align: top;\n",
       "    }\n",
       "\n",
       "    .dataframe thead th {\n",
       "        text-align: right;\n",
       "    }\n",
       "</style>\n",
       "<table border=\"1\" class=\"dataframe\">\n",
       "  <thead>\n",
       "    <tr style=\"text-align: right;\">\n",
       "      <th></th>\n",
       "      <th>RedMeat</th>\n",
       "      <th>WhiteMeat</th>\n",
       "      <th>Eggs</th>\n",
       "      <th>Milk</th>\n",
       "      <th>Fish</th>\n",
       "      <th>Cereals</th>\n",
       "      <th>Starch</th>\n",
       "      <th>Nuts</th>\n",
       "      <th>Fr&amp;Veg</th>\n",
       "    </tr>\n",
       "    <tr>\n",
       "      <th>Country</th>\n",
       "      <th></th>\n",
       "      <th></th>\n",
       "      <th></th>\n",
       "      <th></th>\n",
       "      <th></th>\n",
       "      <th></th>\n",
       "      <th></th>\n",
       "      <th></th>\n",
       "      <th></th>\n",
       "    </tr>\n",
       "  </thead>\n",
       "  <tbody>\n",
       "    <tr>\n",
       "      <th>Albania</th>\n",
       "      <td>10.1</td>\n",
       "      <td>1.4</td>\n",
       "      <td>0.5</td>\n",
       "      <td>8.9</td>\n",
       "      <td>0.2</td>\n",
       "      <td>42.3</td>\n",
       "      <td>0.6</td>\n",
       "      <td>5.5</td>\n",
       "      <td>1.7</td>\n",
       "    </tr>\n",
       "    <tr>\n",
       "      <th>Austria</th>\n",
       "      <td>8.9</td>\n",
       "      <td>14.0</td>\n",
       "      <td>4.3</td>\n",
       "      <td>19.9</td>\n",
       "      <td>2.1</td>\n",
       "      <td>28.0</td>\n",
       "      <td>3.6</td>\n",
       "      <td>1.3</td>\n",
       "      <td>4.3</td>\n",
       "    </tr>\n",
       "    <tr>\n",
       "      <th>Belgium</th>\n",
       "      <td>13.5</td>\n",
       "      <td>9.3</td>\n",
       "      <td>4.1</td>\n",
       "      <td>17.5</td>\n",
       "      <td>4.5</td>\n",
       "      <td>26.6</td>\n",
       "      <td>5.7</td>\n",
       "      <td>2.1</td>\n",
       "      <td>4.0</td>\n",
       "    </tr>\n",
       "    <tr>\n",
       "      <th>Bulgaria</th>\n",
       "      <td>7.8</td>\n",
       "      <td>6.0</td>\n",
       "      <td>1.6</td>\n",
       "      <td>8.3</td>\n",
       "      <td>1.2</td>\n",
       "      <td>56.7</td>\n",
       "      <td>1.1</td>\n",
       "      <td>3.7</td>\n",
       "      <td>4.2</td>\n",
       "    </tr>\n",
       "    <tr>\n",
       "      <th>Czechoslovakia</th>\n",
       "      <td>9.7</td>\n",
       "      <td>11.4</td>\n",
       "      <td>2.8</td>\n",
       "      <td>12.5</td>\n",
       "      <td>2.0</td>\n",
       "      <td>34.3</td>\n",
       "      <td>5.0</td>\n",
       "      <td>1.1</td>\n",
       "      <td>4.0</td>\n",
       "    </tr>\n",
       "  </tbody>\n",
       "</table>\n",
       "</div>"
      ],
      "text/plain": [
       "                RedMeat  WhiteMeat  Eggs  Milk  Fish  Cereals  Starch  Nuts  \\\n",
       "Country                                                                       \n",
       "Albania            10.1        1.4   0.5   8.9   0.2     42.3     0.6   5.5   \n",
       "Austria             8.9       14.0   4.3  19.9   2.1     28.0     3.6   1.3   \n",
       "Belgium            13.5        9.3   4.1  17.5   4.5     26.6     5.7   2.1   \n",
       "Bulgaria            7.8        6.0   1.6   8.3   1.2     56.7     1.1   3.7   \n",
       "Czechoslovakia      9.7       11.4   2.8  12.5   2.0     34.3     5.0   1.1   \n",
       "\n",
       "                Fr&Veg  \n",
       "Country                 \n",
       "Albania            1.7  \n",
       "Austria            4.3  \n",
       "Belgium            4.0  \n",
       "Bulgaria           4.2  \n",
       "Czechoslovakia     4.0  "
      ]
     },
     "execution_count": 6,
     "metadata": {},
     "output_type": "execute_result"
    }
   ],
   "source": [
    "#  Импортируем файл с данными\n",
    "df = pd.read_csv('Protein Consumption in Europe.csv', sep=';', decimal=',', index_col='Country')\n",
    "#  Все хорошо?\n",
    "df.head()"
   ]
  },
  {
   "cell_type": "code",
   "execution_count": null,
   "metadata": {},
   "outputs": [],
   "source": []
  },
  {
   "cell_type": "code",
   "execution_count": 7,
   "metadata": {},
   "outputs": [],
   "source": [
    "# Стандартизуем переменные\n",
    "from sklearn import preprocessing\n",
    "\n"
   ]
  },
  {
   "cell_type": "code",
   "execution_count": 5,
   "metadata": {},
   "outputs": [],
   "source": [
    "# Стандартизуем переменные\n",
    "\n",
    "norm = preprocessing.StandardScaler()\n",
    "norm.fit(df)\n",
    "X = norm.transform(df)"
   ]
  },
  {
   "cell_type": "code",
   "execution_count": null,
   "metadata": {},
   "outputs": [],
   "source": []
  },
  {
   "cell_type": "code",
   "execution_count": 7,
   "metadata": {},
   "outputs": [
    {
     "data": {
      "image/png": "[encoded data removed]",
      "text/plain": [
       "<Figure size 432x288 with 1 Axes>"
      ]
     },
     "metadata": {
      "needs_background": "light"
     },
     "output_type": "display_data"
    }
   ],
   "source": [
    "#  Определяем число кластеров\n",
    "\n",
    "K = range(2, 16)\n",
    "models = [KMeans(n_clusters=k, random_state=42, max_iter=300, n_init=10, \n",
    "               verbose=0, tol=0.0001).fit(X) for k in K]\n",
    "dist = [model.inertia_ for model in models]\n",
    "\n",
    "# Строим график каменистая осыпь\n",
    "plt.plot(K, dist, marker='o')\n",
    "plt.xlabel('Число кластеров')\n",
    "plt.ylabel('Качество кластеризации')\n",
    "plt.title('Каменистая осыпь. Ищем оптимальное k')\n",
    "\n",
    "plt.show()"
   ]
  },
  {
   "cell_type": "code",
   "execution_count": 8,
   "metadata": {},
   "outputs": [],
   "source": [
    "#  Попробуем вариант с 5 кластерами...\n",
    "\n",
    "model = KMeans(n_clusters=5, random_state=42, max_iter=300, n_init=10, \n",
    "               verbose=0, tol=0.0001 )\n",
    "model.fit(X)\n",
    "df['cluster'] = model.labels_\n"
   ]
  },
  {
   "cell_type": "code",
   "execution_count": null,
   "metadata": {},
   "outputs": [],
   "source": []
  },
  {
   "cell_type": "code",
   "execution_count": 9,
   "metadata": {},
   "outputs": [
    {
     "data": {
      "text/plain": [
       "Country\n",
       "Sweden            0\n",
       "Denmark           0\n",
       "Finland           0\n",
       "Norway            0\n",
       "USSR              1\n",
       "Czechoslovakia    1\n",
       "E_Germany         1\n",
       "Poland            1\n",
       "Hungary           1\n",
       "Albania           2\n",
       "Romania           2\n",
       "Italy             2\n",
       "Greece            2\n",
       "Bulgaria          2\n",
       "Yugoslavia        2\n",
       "W_Germany         3\n",
       "Netherlands       3\n",
       "France            3\n",
       "Belgium           3\n",
       "Switzerland       3\n",
       "UK                3\n",
       "Austria           3\n",
       "Ireland           3\n",
       "Portugal          4\n",
       "Spain             4\n",
       "Name: cluster, dtype: int32"
      ]
     },
     "execution_count": 9,
     "metadata": {},
     "output_type": "execute_result"
    }
   ],
   "source": [
    "#  Выведем состав каждого кластера\n",
    "df['cluster'].sort_values()"
   ]
  },
  {
   "cell_type": "code",
   "execution_count": 10,
   "metadata": {},
   "outputs": [
    {
     "data": {
      "text/html": [
       "<div>\n",
       "<style scoped>\n",
       "    .dataframe tbody tr th:only-of-type {\n",
       "        vertical-align: middle;\n",
       "    }\n",
       "\n",
       "    .dataframe tbody tr th {\n",
       "        vertical-align: top;\n",
       "    }\n",
       "\n",
       "    .dataframe thead th {\n",
       "        text-align: right;\n",
       "    }\n",
       "</style>\n",
       "<table border=\"1\" class=\"dataframe\">\n",
       "  <thead>\n",
       "    <tr style=\"text-align: right;\">\n",
       "      <th></th>\n",
       "      <th>RedMeat</th>\n",
       "      <th>WhiteMeat</th>\n",
       "      <th>Eggs</th>\n",
       "      <th>Milk</th>\n",
       "      <th>Fish</th>\n",
       "      <th>Cereals</th>\n",
       "      <th>Starch</th>\n",
       "      <th>Nuts</th>\n",
       "      <th>Fr&amp;Veg</th>\n",
       "    </tr>\n",
       "    <tr>\n",
       "      <th>cluster</th>\n",
       "      <th></th>\n",
       "      <th></th>\n",
       "      <th></th>\n",
       "      <th></th>\n",
       "      <th></th>\n",
       "      <th></th>\n",
       "      <th></th>\n",
       "      <th></th>\n",
       "      <th></th>\n",
       "    </tr>\n",
       "  </thead>\n",
       "  <tbody>\n",
       "    <tr>\n",
       "      <th>0</th>\n",
       "      <td>9.8500</td>\n",
       "      <td>7.050000</td>\n",
       "      <td>3.1500</td>\n",
       "      <td>26.675000</td>\n",
       "      <td>8.225</td>\n",
       "      <td>22.675000</td>\n",
       "      <td>4.550000</td>\n",
       "      <td>1.175000</td>\n",
       "      <td>2.125000</td>\n",
       "    </tr>\n",
       "    <tr>\n",
       "      <th>1</th>\n",
       "      <td>7.9200</td>\n",
       "      <td>10.040000</td>\n",
       "      <td>2.8400</td>\n",
       "      <td>13.840000</td>\n",
       "      <td>2.740</td>\n",
       "      <td>35.740000</td>\n",
       "      <td>5.560000</td>\n",
       "      <td>2.540000</td>\n",
       "      <td>4.260000</td>\n",
       "    </tr>\n",
       "    <tr>\n",
       "      <th>2</th>\n",
       "      <td>7.9500</td>\n",
       "      <td>4.466667</td>\n",
       "      <td>1.7500</td>\n",
       "      <td>11.516667</td>\n",
       "      <td>2.050</td>\n",
       "      <td>47.166667</td>\n",
       "      <td>2.016667</td>\n",
       "      <td>5.383333</td>\n",
       "      <td>4.183333</td>\n",
       "    </tr>\n",
       "    <tr>\n",
       "      <th>3</th>\n",
       "      <td>13.2125</td>\n",
       "      <td>10.637500</td>\n",
       "      <td>3.9875</td>\n",
       "      <td>21.162500</td>\n",
       "      <td>3.375</td>\n",
       "      <td>24.700000</td>\n",
       "      <td>4.650000</td>\n",
       "      <td>2.062500</td>\n",
       "      <td>4.175000</td>\n",
       "    </tr>\n",
       "    <tr>\n",
       "      <th>4</th>\n",
       "      <td>6.6500</td>\n",
       "      <td>3.550000</td>\n",
       "      <td>2.1000</td>\n",
       "      <td>6.750000</td>\n",
       "      <td>10.600</td>\n",
       "      <td>28.100000</td>\n",
       "      <td>5.800000</td>\n",
       "      <td>5.300000</td>\n",
       "      <td>7.550000</td>\n",
       "    </tr>\n",
       "  </tbody>\n",
       "</table>\n",
       "</div>"
      ],
      "text/plain": [
       "         RedMeat  WhiteMeat    Eggs       Milk    Fish    Cereals    Starch  \\\n",
       "cluster                                                                       \n",
       "0         9.8500   7.050000  3.1500  26.675000   8.225  22.675000  4.550000   \n",
       "1         7.9200  10.040000  2.8400  13.840000   2.740  35.740000  5.560000   \n",
       "2         7.9500   4.466667  1.7500  11.516667   2.050  47.166667  2.016667   \n",
       "3        13.2125  10.637500  3.9875  21.162500   3.375  24.700000  4.650000   \n",
       "4         6.6500   3.550000  2.1000   6.750000  10.600  28.100000  5.800000   \n",
       "\n",
       "             Nuts    Fr&Veg  \n",
       "cluster                      \n",
       "0        1.175000  2.125000  \n",
       "1        2.540000  4.260000  \n",
       "2        5.383333  4.183333  \n",
       "3        2.062500  4.175000  \n",
       "4        5.300000  7.550000  "
      ]
     },
     "execution_count": 10,
     "metadata": {},
     "output_type": "execute_result"
    }
   ],
   "source": [
    "df.groupby('cluster').mean()"
   ]
  },
  {
   "cell_type": "markdown",
   "metadata": {},
   "source": [
    "Стоит еще попробовать варианты с 4 или с 6 кластерами..."
   ]
  },
  {
   "cell_type": "code",
   "execution_count": 11,
   "metadata": {},
   "outputs": [],
   "source": [
    "#  Попробуем вариант с 6 кластерами...\n",
    "\n",
    "model_6 = KMeans(n_clusters=6, random_state=42, max_iter=300, n_init=10, \n",
    "               verbose=0, tol=0.0001 )\n",
    "model_6.fit(X)\n",
    "df['cluster'] = model_6.labels_\n"
   ]
  },
  {
   "cell_type": "code",
   "execution_count": 12,
   "metadata": {},
   "outputs": [
    {
     "data": {
      "text/plain": [
       "Country\n",
       "USSR              0\n",
       "Czechoslovakia    0\n",
       "Hungary           0\n",
       "Poland            0\n",
       "Austria           1\n",
       "Belgium           1\n",
       "UK                1\n",
       "E_Germany         1\n",
       "Switzerland       1\n",
       "France            1\n",
       "Ireland           1\n",
       "W_Germany         1\n",
       "Netherlands       1\n",
       "Italy             2\n",
       "Greece            2\n",
       "Romania           3\n",
       "Albania           3\n",
       "Bulgaria          3\n",
       "Yugoslavia        3\n",
       "Norway            4\n",
       "Sweden            4\n",
       "Finland           4\n",
       "Denmark           4\n",
       "Spain             5\n",
       "Portugal          5\n",
       "Name: cluster, dtype: int32"
      ]
     },
     "execution_count": 12,
     "metadata": {},
     "output_type": "execute_result"
    }
   ],
   "source": [
    "#  Выведем состав каждого кластера\n",
    "df['cluster'].sort_values()"
   ]
  },
  {
   "cell_type": "code",
   "execution_count": null,
   "metadata": {},
   "outputs": [],
   "source": []
  },
  {
   "cell_type": "code",
   "execution_count": null,
   "metadata": {},
   "outputs": [],
   "source": []
  },
  {
   "cell_type": "code",
   "execution_count": null,
   "metadata": {},
   "outputs": [],
   "source": []
  },
  {
   "cell_type": "markdown",
   "metadata": {},
   "source": [
    "##  Что произойдет, \n",
    "##  если изменить стандартизацию?"
   ]
  },
  {
   "cell_type": "code",
   "execution_count": 8,
   "metadata": {},
   "outputs": [],
   "source": [
    "# Стандартизуем переменные\n",
    "\n",
    "norm_2 = preprocessing.MaxAbsScaler()\n",
    "# norm_2 = preprocessing.StandardScaler()\n",
    "norm_2.fit(df)\n",
    "X_2 = norm_2.transform(df)"
   ]
  },
  {
   "cell_type": "code",
   "execution_count": null,
   "metadata": {},
   "outputs": [],
   "source": []
  },
  {
   "cell_type": "code",
   "execution_count": 9,
   "metadata": {},
   "outputs": [],
   "source": [
    "model_2 = KMeans(n_clusters=5, random_state=42, max_iter=300, n_init=10, \n",
    "               verbose=0, tol=0.0001 )\n",
    "model_2.fit(X_2)\n",
    "df['cluster_2'] = model_2.labels_"
   ]
  },
  {
   "cell_type": "code",
   "execution_count": 10,
   "metadata": {},
   "outputs": [
    {
     "data": {
      "text/plain": [
       "Country\n",
       "USSR              0\n",
       "Poland            0\n",
       "Czechoslovakia    0\n",
       "Hungary           0\n",
       "E_Germany         0\n",
       "Albania           1\n",
       "Romania           1\n",
       "Greece            1\n",
       "Italy             1\n",
       "Bulgaria          1\n",
       "Yugoslavia        1\n",
       "Portugal          2\n",
       "Spain             2\n",
       "Finland           3\n",
       "Denmark           3\n",
       "Norway            3\n",
       "Sweden            3\n",
       "Ireland           4\n",
       "W_Germany         4\n",
       "Netherlands       4\n",
       "Belgium           4\n",
       "Switzerland       4\n",
       "UK                4\n",
       "Austria           4\n",
       "France            4\n",
       "Name: cluster_2, dtype: int32"
      ]
     },
     "execution_count": 10,
     "metadata": {},
     "output_type": "execute_result"
    }
   ],
   "source": [
    "#  Выведем состав каждого кластера\n",
    "df['cluster_2'].sort_values()"
   ]
  },
  {
   "cell_type": "code",
   "execution_count": null,
   "metadata": {},
   "outputs": [],
   "source": []
  },
  {
   "cell_type": "code",
   "execution_count": null,
   "metadata": {},
   "outputs": [],
   "source": []
  }
 ],
 "metadata": {
  "kernelspec": {
   "display_name": "Python 3",
   "language": "python",
   "name": "python3"
  },
  "language_info": {
   "codemirror_mode": {
    "name": "ipython",
    "version": 3
   },
   "file_extension": ".py",
   "mimetype": "text/x-python",
   "name": "python",
   "nbconvert_exporter": "python",
   "pygments_lexer": "ipython3",
   "version": "3.7.10"
  }
 },
 "nbformat": 4,
 "nbformat_minor": 2
}
